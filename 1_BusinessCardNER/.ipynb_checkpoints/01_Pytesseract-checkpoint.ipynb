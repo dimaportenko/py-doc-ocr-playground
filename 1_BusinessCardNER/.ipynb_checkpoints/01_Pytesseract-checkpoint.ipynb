{
 "cells": [
  {
   "cell_type": "code",
   "execution_count": 1,
   "id": "2a29899c",
   "metadata": {},
   "outputs": [],
   "source": [
    "import numpy as np\n",
    "import pandas as pd\n",
    "import cv2\n",
    "import PIL\n",
    "import pytesseract\n",
    "import spacy"
   ]
  },
  {
   "cell_type": "code",
   "execution_count": null,
   "id": "0c54e10e",
   "metadata": {},
   "outputs": [],
   "source": [
    "img_cv = cv2.imread('./Selected/052.jpeg')\n",
    "\n",
    "cv2.imshow('Bussiness Card', img_cv)\n",
    "cv2.waitKey(0)\n",
    "cv2.destroyAllWindows()"
   ]
  },
  {
   "cell_type": "code",
   "execution_count": null,
   "id": "96fc51fe",
   "metadata": {},
   "outputs": [],
   "source": [
    "img_pl = PIL.Image.open('./Selected/052.jpeg')"
   ]
  },
  {
   "cell_type": "code",
   "execution_count": null,
   "id": "e3819cd3",
   "metadata": {},
   "outputs": [],
   "source": [
    "type(img_pl)"
   ]
  },
  {
   "cell_type": "code",
   "execution_count": null,
   "id": "a27c8d24",
   "metadata": {},
   "outputs": [],
   "source": []
  }
 ],
 "metadata": {
  "kernelspec": {
   "display_name": "Python 3 (ipykernel)",
   "language": "python",
   "name": "python3"
  },
  "language_info": {
   "codemirror_mode": {
    "name": "ipython",
    "version": 3
   },
   "file_extension": ".py",
   "mimetype": "text/x-python",
   "name": "python",
   "nbconvert_exporter": "python",
   "pygments_lexer": "ipython3",
   "version": "3.10.8"
  }
 },
 "nbformat": 4,
 "nbformat_minor": 5
}
